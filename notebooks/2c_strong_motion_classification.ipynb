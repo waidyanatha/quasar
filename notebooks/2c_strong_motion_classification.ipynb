{
 "cells": [
  {
   "cell_type": "markdown",
   "metadata": {},
   "source": [
    "# QuaSaR: Identifying EEW Rings - MMI Classifier\n",
    "\n",
    "[Quake Safe Rings](./1a_stations_faultlnes_plot.ipynb) - In the efforts to understand the GeoNet datasets for havesting data that can be used in trialing the picking agorithms, we begin with the [GeoNet Strong Motion Database](https://www.geonet.org.nz/data/supplementary/nzsmdb), [rupture  model data](), and [processed recordings]() that are readily available<sup>[1](#myftnote1)</sup>. The idea is to classify the historic data by the various measures made available throught the datasets. Some of the measures include the moment magnitude, hycenter location, measuring station locations, tectonic type, rupture length, total duration, and so on.\n",
    "\n",
    "<a name=\"ftnote1\">[1]</a>: [All GeoNet data and images](https://github.com/GeoNet/data), with updates on Github, are made available free of charge through the GeoNet project to facilitate research into hazards and assessment of risk. GeoNet is sponsored by the New Zealand Government through its agencies: Earthquake Commission (EQC), GNS Science and Land Information New Zealand (LINZ), the National Emergency Management Agency (NEMA) and the Ministry of Business, Innovation and Employment (MBIE)."
   ]
  },
  {
   "cell_type": "code",
   "execution_count": 2,
   "metadata": {},
   "outputs": [],
   "source": [
    "'''\n",
    "    WARNING CONTROL to display or ignore all warnings\n",
    "'''\n",
    "import warnings; warnings.simplefilter('default')     #switch betweeb 'default' and 'ignore'\n",
    "\n",
    "import logging\n",
    "from functools import lru_cache"
   ]
  },
  {
   "cell_type": "markdown",
   "metadata": {},
   "source": [
    "## Hueristically mining the strong motion database\n",
    "\n",
    "[Flatfile specifications](https://static.geonet.org.nz/info/resources/applications_data/earthquake/strong_motion/Flatfiles_ColumnExplanation.pdf). They contain the horizontal and vertical acceleration response spectra, and horizontal and vertical Fourier amplitude spectra of acceleration.\n",
    "\n",
    "We begin with mining the data with attention on [feature extraction](https://machinelearningmastery.com/feature-extraction-on-tabular-data/)\n",
    "1. _Mw_: Moment Magnitude\n",
    "1. _Orign_time_: Earthquake originating time\n",
    "1. _TectClass_: Tectonic Class of crustal, slab, or interface\n",
    "1. _Mech_: Focal mechanism whether it is a slip, strike, etc\n",
    "1. _Length_km_: rupture length in Kilometers\n",
    "1. _Width_km_: rupture width in Kilometers\n",
    "1. _TotalDuration_: Total duration of the earthquake\n",
    "\n",
    "### Class to load and clean data"
   ]
  },
  {
   "cell_type": "code",
   "execution_count": 6,
   "metadata": {
    "scrolled": true
   },
   "outputs": [
    {
     "ename": "AttributeError",
     "evalue": "module 'datetime' has no attribute 'fromisoformat'",
     "output_type": "error",
     "traceback": [
      "\u001b[0;31m---------------------------------------------------------------------------\u001b[0m",
      "\u001b[0;31mAttributeError\u001b[0m                            Traceback (most recent call last)",
      "\u001b[0;32m<ipython-input-6-d7a92fbfbd1f>\u001b[0m in \u001b[0;36m<module>\u001b[0;34m\u001b[0m\n\u001b[1;32m     15\u001b[0m \u001b[0;34m''' Convert datetime to a defined as YYYYMMDD time rounded to 0 or 1 day '''\u001b[0m\u001b[0;34m\u001b[0m\u001b[0;34m\u001b[0m\u001b[0m\n\u001b[1;32m     16\u001b[0m \u001b[0;32mfor\u001b[0m \u001b[0mt_idx\u001b[0m\u001b[0;34m,\u001b[0m \u001b[0mt_val\u001b[0m \u001b[0;32min\u001b[0m \u001b[0menumerate\u001b[0m\u001b[0;34m(\u001b[0m\u001b[0mstrong_motion_df\u001b[0m\u001b[0;34m[\u001b[0m\u001b[0;34m'Origin_time'\u001b[0m\u001b[0;34m]\u001b[0m\u001b[0;34m)\u001b[0m\u001b[0;34m:\u001b[0m\u001b[0;34m\u001b[0m\u001b[0;34m\u001b[0m\u001b[0m\n\u001b[0;32m---> 17\u001b[0;31m     \u001b[0mt_dt\u001b[0m \u001b[0;34m=\u001b[0m \u001b[0mdt\u001b[0m\u001b[0;34m.\u001b[0m\u001b[0mfromisoformat\u001b[0m\u001b[0;34m(\u001b[0m\u001b[0mt_val\u001b[0m\u001b[0;34m[\u001b[0m\u001b[0;36m0\u001b[0m\u001b[0;34m:\u001b[0m\u001b[0;36m19\u001b[0m\u001b[0;34m]\u001b[0m\u001b[0;34m)\u001b[0m\u001b[0;34m\u001b[0m\u001b[0;34m\u001b[0m\u001b[0m\n\u001b[0m\u001b[1;32m     18\u001b[0m     \u001b[0mt_float\u001b[0m \u001b[0;34m=\u001b[0m \u001b[0mfloat\u001b[0m\u001b[0;34m(\u001b[0m\u001b[0mt_dt\u001b[0m\u001b[0;34m.\u001b[0m\u001b[0myear\u001b[0m\u001b[0;34m*\u001b[0m\u001b[0;36m100000\u001b[0m\u001b[0;34m+\u001b[0m\u001b[0mt_dt\u001b[0m\u001b[0;34m.\u001b[0m\u001b[0mmonth\u001b[0m\u001b[0;34m*\u001b[0m\u001b[0;36m1000\u001b[0m\u001b[0;34m+\u001b[0m\u001b[0mt_dt\u001b[0m\u001b[0;34m.\u001b[0m\u001b[0mday\u001b[0m\u001b[0;34m*\u001b[0m\u001b[0;36m10\u001b[0m\u001b[0;34m+\u001b[0m\u001b[0;34m(\u001b[0m\u001b[0mround\u001b[0m\u001b[0;34m(\u001b[0m\u001b[0mt_dt\u001b[0m\u001b[0;34m.\u001b[0m\u001b[0mhour\u001b[0m\u001b[0;34m/\u001b[0m\u001b[0;36m24\u001b[0m\u001b[0;34m)\u001b[0m\u001b[0;34m)\u001b[0m\u001b[0;34m)\u001b[0m\u001b[0;34m\u001b[0m\u001b[0;34m\u001b[0m\u001b[0m\n\u001b[1;32m     19\u001b[0m     \u001b[0mstrong_motion_df\u001b[0m\u001b[0;34m[\u001b[0m\u001b[0;34m'Origin_time'\u001b[0m\u001b[0;34m]\u001b[0m\u001b[0;34m[\u001b[0m\u001b[0mt_idx\u001b[0m\u001b[0;34m]\u001b[0m\u001b[0;34m=\u001b[0m\u001b[0mt_float\u001b[0m\u001b[0;34m\u001b[0m\u001b[0;34m\u001b[0m\u001b[0m\n",
      "\u001b[0;31mAttributeError\u001b[0m: module 'datetime' has no attribute 'fromisoformat'"
     ]
    }
   ],
   "source": [
    "#import torch\n",
    "import pandas as pd\n",
    "import datetime as dt\n",
    "#from sklearn.preprocessing import OneHotEncoder\n",
    "from sklearn.preprocessing import LabelEncoder\n",
    "\n",
    "'''\n",
    "    CSV LOAD into DataFrame and remove unnecessary columns\n",
    "'''\n",
    "strong_motion_df = pd.read_csv('../data/flatfiles/NZdatabase_flatfile_Significant_Duration_horizontal.csv', encoding = \"UTF-8\")\n",
    "\n",
    "strong_motion_df = strong_motion_df.drop(columns=['CuspID','References','Location','Record'], axis=1)\n",
    "strong_motion_df = strong_motion_df.replace('>2',float(2.1))\n",
    "strong_motion_df = strong_motion_df.replace('<0.1',float(0.1))\n",
    "''' Convert datetime to a defined as YYYYMMDD time rounded to 0 or 1 day '''\n",
    "for t_idx, t_val in enumerate(strong_motion_df['Origin_time']):\n",
    "    t_dt = dt.datetime.fromisoformat(t_val[0:19])\n",
    "    t_float = float(t_dt.year*100000+t_dt.month*1000+t_dt.day*10+(round(t_dt.hour/24)))\n",
    "    strong_motion_df['Origin_time'][t_idx]=t_float\n",
    "\n",
    "_lst_cate_data_cols = [\n",
    "                        'Origin_time',     # Origin time of earthquake in UTC\n",
    "                        'TectClass',       # Tectonic classification, either ‘crustal’, ‘interface’, or ‘slab’\n",
    "                        'Mech',            #\n",
    "                        'HWFW',            #\n",
    "                        'SiteCode',        #\n",
    "                        'SiteClass1170',   #\n",
    "                        'Vs30Uncert',      #\n",
    "                        'TsiteUncert',     #\n",
    "                        'Z1Uncertainty'    #\n",
    "                      ]\n",
    "cat_strong_motion_df = strong_motion_df[_lst_cate_data_cols]\n",
    "num_strong_motion_df = strong_motion_df.drop(_lst_cate_data_cols, axis=1)\n",
    "print(f\"Shape of the Categorical DataFrame: {cat_strong_motion_df.shape}\")\n",
    "print(f\"Shape of the Numerical DataFrame: {num_strong_motion_df.shape}\")\n",
    "\n",
    "''' LabelEncoder to convert the categorical data to numerical float64 '''\n",
    "le = LabelEncoder()\n",
    "for __cat_col_name in _lst_cate_data_cols:\n",
    "    strong_motion_df[__cat_col_name] = le.fit_transform(strong_motion_df[__cat_col_name]).astype(float) \n",
    "print(f\"Shape of the full DataFrame: {strong_motion_df.shape}\")\n",
    "print(f'\\nPost label encoding of categorical data \\n{strong_motion_df.head(3)}')"
   ]
  },
  {
   "cell_type": "markdown",
   "metadata": {},
   "source": [
    "### Method to pariwise plot measures"
   ]
  },
  {
   "cell_type": "code",
   "execution_count": null,
   "metadata": {},
   "outputs": [],
   "source": [
    "import matplotlib.pyplot as plt\n",
    "import seaborn as sns\n",
    "'''\n",
    "    Pairwise density plots for all the column variables\n",
    "    attribute specs: https://static.geonet.org.nz/info/resources/applications_data/earthquake/strong_motion/Flatfiles_ColumnExplanation.pdf\n",
    "'''\n",
    "plot_df = strong_motion_df[[\n",
    "                            'Mw',          # Moment Magnitude\n",
    "                            'MwUncert',    # Mw uncertainty class \n",
    "                            'Origin_time', # Origin time of earthquake in UTC\n",
    "                            'TectClass',   # Tectonic classification, either ‘crustal’, ‘interface’, or ‘slab’\n",
    "                            'Mech',        # Focal mechanism: S→strike-slip, N→normal,R→reverse,U→unknown\n",
    "                            'PreferredFaultPlane', # 1→one fault plane orientation is preferred, 1→Unknown\n",
    "                            'Strike',      # Strike angle (degrees)\n",
    "                            'Dip',         # Dip angle (degrees)\n",
    "                            'Rake',        # Rake angle (degrees)\n",
    "                            'HypLat',      # Hypercenter Latitude\n",
    "                            'HypLon',      # Hypercernter Longitude\n",
    "                            'StationLat',  # Recording Station Latitude\n",
    "                            'StationLon',  # Recording Station Longitude\n",
    "                            'HypN',        # Northing of Hyppercenter\n",
    "                            'HypE',        # Easting of Hypercernter\n",
    "                            'StationN',    # Northing of Station\n",
    "                            'StationE',    # Easting of Station\n",
    "                            'LENGTH_km',   # Infered rupture Length in Kilometers\n",
    "                            'WIDTH_km',    # Infered down-dip rupture Width in Kilometers\n",
    "                            'TotalDuration'# Total Duration of the earthquake\n",
    "                           ]]\n",
    "lst_plot_cols = ['Origin_time','Mw','TectClass','Mech','LENGTH_km','TotalDuration']\n",
    "print(f\"Description of each plotted measure: \\n{pd.DataFrame(plot_df[lst_plot_cols].describe(include='all')).T}\")\n",
    "g = sns.pairplot(plot_df[lst_plot_cols], \n",
    "             hue='Mw', corner=True,hue_order=None,\n",
    "             kind='scatter', diag_kind='auto', height=7,markers='d')\n",
    "g.fig.suptitle(\"Pair Plots for relevant measures\") # y= some height>1\n"
   ]
  },
  {
   "cell_type": "markdown",
   "metadata": {},
   "source": [
    "## Applying an NN Classifier\n",
    "The intent is to use data available from GeoNet strong motion and felt databases to encapsulate a a Modified Mercalli Intensity (MMI) score. We use an Artifical Nueral Network (NN) to classify the data from the several flat files. The reason to use an NN is because of the large volume of covariates in the dataset. Subsequently assess wether a the classifier contribute to the basis of proposing an MMI for a new scenario of the given covariates.\n",
    "\n",
    "Of particular intetrest to this notebook is investigating the use of pytorch and tensor products and their capabilties to build a model for evaluating Objective II.C --  Picking earthquakes. For such we need to achieve the following steps\n",
    "1. Encode or vectorize the data; especially with transforming categorical labels to numerical data; ideally as embeddings (currently only using the LabelEncoder instead of the HotEncoder)\n",
    "1. [Split the data](https://palikar.github.io/posts/pytorch_datasplit/) to generate train, validation, and test datasets to,\n",
    "   1. train it with 300 epochs to reach an acceptable long tail and near-zero softmax defined in the NN model\n",
    "   1. validate \n",
    "\n",
    "### Method to split dataset into train, validation, & test"
   ]
  },
  {
   "cell_type": "code",
   "execution_count": 7,
   "metadata": {},
   "outputs": [
    {
     "name": "stderr",
     "output_type": "stream",
     "text": [
      "/home/nuwan/anaconda3/envs/obspy/lib/python3.7/site-packages/ipykernel/ipkernel.py:283: DeprecationWarning: `should_run_async` will not call `transform_cell` automatically in the future. Please pass the result to `transformed_cell` argument and any exception that happen during thetransform in `preprocessing_exc_tuple` in IPython 7.17 and above.\n",
      "  and should_run_async(code)\n"
     ]
    },
    {
     "name": "stdout",
     "output_type": "stream",
     "text": [
      "Classes {0.0, 1.0, 2.0, 3.0, 4.0}\n",
      "Train data loader length 275\n",
      "Validation data loader length 69\n"
     ]
    }
   ],
   "source": [
    "''' METHOD DATALOADER - build the training dataloader object'''\n",
    "# Load necessary Pytorch packages\n",
    "import torch\n",
    "from torch.utils.data import DataLoader, TensorDataset\n",
    "from torch import Tensor\n",
    "import numpy as np\n",
    "\n",
    "shuffle = True\n",
    "test_train_split = 0.8\n",
    "val_train_split = 0.2\n",
    "\n",
    "''' Data smithing '''\n",
    "try:\n",
    "    dataset = strong_motion_df.drop(['Origin_time','SiteCode'], axis=1).astype(float)\n",
    "\n",
    "    dataset_size = len(dataset)\n",
    "    indices = list(range(dataset_size))\n",
    "    test_split = int(np.floor(test_train_split * dataset_size))\n",
    "\n",
    "    ''' shuffle if True '''\n",
    "    if shuffle:\n",
    "        np.random.shuffle(indices)\n",
    "\n",
    "except Exception as err:\n",
    "    print(\"Error message:\", err)\n",
    "\n",
    "''' Split the indices into train, valid, and test '''\n",
    "try:\n",
    "    train_indices, test_indices = indices[:test_split], indices[test_split:]\n",
    "    train_size = len(train_indices)\n",
    "    validation_split = int(np.floor((1 - val_train_split) * train_size))\n",
    "    train_indices, val_indices = train_indices[ : validation_split], train_indices[validation_split:]\n",
    "\n",
    "    #_targets = dataset[['TectClass','Mech']]\n",
    "    #_inputs = dataset.drop(['TectClass','Mech'], axis=1)\n",
    "    _targets = dataset['Mech']\n",
    "    _inputs = dataset.drop(['Mech'], axis=1)\n",
    "    print('Classes',set(_targets))\n",
    "except Exception as err:\n",
    "    print(\"Error message:\", err)\n",
    "\n",
    "''' Train dataset from split indeces '''\n",
    "try:\n",
    "    train_inputs = np.array(_inputs.iloc[train_indices], dtype=np.float32)\n",
    "    train_targets= np.array(_targets.iloc[train_indices], dtype=np.float32)\n",
    "\n",
    "    train_data = []\n",
    "    for i in range(len(train_inputs)):\n",
    "        train_data.append([train_inputs[i], train_targets[i]])\n",
    "    train_loader = torch.utils.data.DataLoader(train_data, batch_size=10, num_workers=0, shuffle=False)\n",
    "    print(\"Train data loader length\", str(len(train_loader)))\n",
    "except Exception as err:\n",
    "    print(\"Error message:\", err)\n",
    "\n",
    "''' Validation dataset from split indeces '''\n",
    "try:\n",
    "    val_inputs = np.array(_inputs.iloc[val_indices], dtype=np.float32)\n",
    "    val_targets= np.array(_targets.iloc[val_indices], dtype=np.float32)\n",
    "\n",
    "    val_data = []\n",
    "    for i in range(len(val_inputs)):\n",
    "        val_data.append([val_inputs[i], val_targets[i]])\n",
    "    val_loader = torch.utils.data.DataLoader(val_data, batch_size=10, num_workers=0, shuffle=False)\n",
    "    print(\"Validation data loader length\", str(len(val_loader)))\n",
    "except Exception as err:\n",
    "    print(\"Error message:\", err)\n"
   ]
  },
  {
   "cell_type": "markdown",
   "metadata": {},
   "source": [
    "## The NN Model\n",
    "* [Description of the NN Layers and tuning the Hyperparameters](https://towardsdatascience.com/what-are-hyperparameters-and-how-to-tune-the-hyperparameters-in-a-deep-neural-network-d0604917584a)\n",
    "* [d2l Pytorch tutorial](https://github.com/dsgiitr/d2l-pytorch)\n",
    "* [NN architecture](https://towardsdatascience.com/the-mostly-complete-chart-of-neural-networks-explained-3fb6f2367464) for building the NN model.\n",
    "\n",
    "__Parameters__\n",
    "* _in_features_:\n",
    "* _out_features_:\n",
    "* _layers_: List which contains number of neurons for all the layers\n",
    "* _p_: \n",
    "\n",
    "#### Input layer\n",
    "Comprises both numerical and categorical data. We have generated embeddings for all the categorical data.\n",
    "* ```n_features: int=46``` (of 55)\n",
    "\n",
    "#### Hidden MLP\n",
    "1. [Batch Normalization](https://towardsdatascience.com/batch-normalization-and-dropout-in-neural-networks-explained-with-pytorch-47d7a8459bcd) - to avoid the learning algorithm spend much time oscillating in the plateau, we normalize the input features such that all the features would be on the same scale.\n",
    "1. [Linear transformation](https://pytorch.org/docs/stable/generated/torch.nn.Linear.html#torch.nn.Linear) takes ```n_features: int=46``` (of 55) and ```n_out_feature: int=2``` (of 5).\n",
    "1. [RELU]()\n",
    "1. [Dropout]()\n",
    "1. [Autoencoder](https://analyticsindiamag.com/hands-on-guide-to-implement-deep-autoencoder-in-pytorch-for-image-reconstruction/) designed for classification, clustering, and feature compression\n",
    "\n",
    "__TODO__ convert the feature vector to a feature matrix to make use of:\n",
    "1. [Pooling](https://deepai.org/machine-learning-glossary-and-terms/max-pooling) - “accumulate” features from maps generated by convolving a filter over the feature matrix. Formally, its function is to progressively reduce the spatial size of the representation to reduce the amount of parameters and computation in the network; in part to help over-fitting by providing an abstracted form of the representation\n",
    "1. [Convolusion](https://www.nature.com/articles/s41598-019-47765-6) - convolution neural network (CNN) architecture from deep neural networks accepts a sample as an image (i.e. a matrix of size m × n) and performs feature extraction and classification via hidden layers (such as convolutional layers, RELU layer, max-pooling layers). First step is [reshaping the tensor view](https://discuss.pytorch.org/t/convert-1d-tensor-to-2d-tensor/5599/2) that is acceptable by [Conv2D NN class](https://pytorch.org/docs/stable/generated/torch.nn.Conv2d.html#torch.nn.Conv2d). \n",
    "\n",
    "\n",
    "#### Output Layer\n",
    "The output classifiers are ```output={'Mw','TectClass','Mech','Length_km','Width_km', 'TotalDuration'}```. Therefore, we have ```n_out_features: int=1```. The set of outputs with their own classes should be able to define the [Modified Mercalli Intensity scale](https://www.usgs.gov/media/images/modified-mercalli-intensity-mmi-scale-assigns-intensities)\n",
    "\n",
    "#### Weights\n",
    "The weights are randomly generated for the ```2401 x 49``` tensors. \n",
    "\n"
   ]
  },
  {
   "cell_type": "code",
   "execution_count": 8,
   "metadata": {},
   "outputs": [
    {
     "name": "stderr",
     "output_type": "stream",
     "text": [
      "/home/nuwan/anaconda3/envs/obspy/lib/python3.7/site-packages/ipykernel/ipkernel.py:283: DeprecationWarning: `should_run_async` will not call `transform_cell` automatically in the future. Please pass the result to `transformed_cell` argument and any exception that happen during thetransform in `preprocessing_exc_tuple` in IPython 7.17 and above.\n",
      "  and should_run_async(code)\n"
     ]
    }
   ],
   "source": [
    "'''\n",
    "    CLASS Net MLP\n",
    "'''\n",
    "import torch.nn as nn\n",
    "import torch.nn.functional as F\n",
    "\n",
    "class Net(nn.Module):\n",
    "    \n",
    "    ''' Initialize the NN '''\n",
    "    def __init__(self, n_in_features: int, n_out_features: int, layers: list, p=0.4):\n",
    "        super().__init__()\n",
    "        \n",
    "        all_layers = []\n",
    "        \n",
    "        for i in layers:\n",
    "            ''' feature extraction with convolusion and pooling '''\n",
    "            all_layers.append(nn.Linear(n_in_features, n_out_features))\n",
    "            all_layers.append(nn.BatchNorm1d(i))\n",
    "            all_layers.append(nn.ReLU(inplace=True))\n",
    "            all_layers.append(nn.Dropout(p))\n",
    "\n",
    "        ''' TODO fix the matrix mismatch '''\n",
    "#        all_layers.append(nn.Linear(layers[-1], n_out_features))\n",
    "\n",
    "        self.layers = nn.Sequential(*all_layers)\n",
    "\n",
    "    ''' Forward run of data through the NN model'''\n",
    "    def forward(self, x):\n",
    "        x = self.layers(x)\n",
    "        x = torch.flatten(x, 1)\n",
    "        # Apply softmax to x\n",
    "#        output = F.log_softmax(x, dim=1)\n",
    "        output = F.softmax(x,dim=1)\n",
    "        return output\n",
    "    \n",
    "    ''' GET a NN model with prescribed in-out features and layer architecture '''\n",
    "    def get_nn_model(train_loader):\n",
    "        \n",
    "        # Define Layers\n",
    "        __layer = [52]\n",
    "\n",
    "        train_loader_input, train_loader_target = next(iter(train_loader))\n",
    "        print(f'Input train tensor data type: {train_loader_input.dtype} and {train_loader_input.size()}')\n",
    "        print(f'Target train tensor data type: {train_loader_target.dtype} and {train_loader_target.size()}')\n",
    "        ''' Define in and out features '''\n",
    "        n_in_features = train_loader_input.shape[1]\n",
    "        n_out_features = len(set(_targets))\n",
    "        print(f'Building model with {n_in_features} in features, {n_out_features} out features, and hidden layer architecture {__layer} as hyperparameters')\n",
    "        print(f\"for the Train loader with shape {train_loader_input.shape} and target loader shape {train_loader_target.shape}\")\n",
    "        model = Net(n_in_features,n_out_features,layers=__layer,p=0.4) # On CPU\n",
    "        return model, __layer\n",
    "\n",
    "    ''' GET training performance (loss and accuracy) measures '''\n",
    "    def get_train_perform(train_loader):\n",
    "        train_accu = []\n",
    "        train_loss = []\n",
    "        train_correct = 0\n",
    "        train_total = 0\n",
    "        for train_idx, (train_data, train_labels) in enumerate(train_loader):\n",
    "            optimizer.zero_grad()\n",
    "            y_pred = model.forward(train_data)\n",
    "            _, train_predicted = torch.max(y_pred.data, 1)\n",
    "            train_labels = train_labels.type(torch.LongTensor)\n",
    "            train_single_loss = loss_function(y_pred, train_labels)\n",
    "    \n",
    "            train_single_loss.backward()\n",
    "            optimizer.step()\n",
    "\n",
    "            train_total += train_labels.size(0)\n",
    "            train_correct += (train_predicted == train_labels).sum().item()\n",
    "\n",
    "        train_accu.append(100 * train_correct / train_total)\n",
    "        train_loss.append(train_single_loss)\n",
    "\n",
    "        return train_accu, train_loss\n",
    "\n",
    "    ''' GET validation performance (accuracy) measure '''\n",
    "    def get_valid_perform(val_loader):\n",
    "        val_accu = []\n",
    "        val_correct = 0\n",
    "        val_total = 0\n",
    "        with torch.no_grad():\n",
    "            for val_idx, (val_data, val_labels) in enumerate(val_loader):\n",
    "                val_labels = val_labels.type(torch.LongTensor)\n",
    "                y_pred = model.forward(val_data)\n",
    "                _, val_predicted = torch.max(y_pred.data, 1)\n",
    "                val_total += val_labels.size(0)\n",
    "                val_correct += (val_predicted == val_labels).sum().item()\n",
    "\n",
    "        val_accu.append(100 * val_correct / val_total)\n",
    "\n",
    "        return val_accu\n"
   ]
  },
  {
   "cell_type": "markdown",
   "metadata": {},
   "source": [
    "### Define and build the 'model'"
   ]
  },
  {
   "cell_type": "code",
   "execution_count": 9,
   "metadata": {},
   "outputs": [
    {
     "name": "stdout",
     "output_type": "stream",
     "text": [
      "Input train tensor data type: torch.float32 and torch.Size([10, 52])\n",
      "Target train tensor data type: torch.float32 and torch.Size([10])\n",
      "Building model with 52 in features, 5 out features, and hidden layer architecture [52] as hyperparameters\n",
      "for the Train loader with shape torch.Size([10, 52]) and target loader shape torch.Size([10])\n",
      "\n",
      "Net(\n",
      "  (layers): Sequential(\n",
      "    (0): BatchNorm1d(52, eps=1e-05, momentum=0.1, affine=True, track_running_stats=True)\n",
      "    (1): ReLU(inplace=True)\n",
      "    (2): Linear(in_features=52, out_features=5, bias=True)\n",
      "    (3): Dropout(p=0.4, inplace=False)\n",
      "  )\n",
      ")\n",
      "Optimizer with learning rate lr=0.001 and \n",
      "Parameters\n",
      " layers.0.weight torch.Size([52])\n",
      " layers.0.bias torch.Size([52])\n",
      " layers.2.weight torch.Size([5, 52])\n",
      " layers.2.bias torch.Size([5])\n"
     ]
    }
   ],
   "source": [
    "import torch.optim as optim\n",
    "\n",
    "''' Define learning rate '''\n",
    "lr = 0.001\n",
    "''' Define loss funcion '''\n",
    "loss_function = nn.CrossEntropyLoss()\n",
    "\n",
    "model, _layer = Net.get_nn_model(train_loader)\n",
    "print(f\"\\n{model}\")\n",
    "\n",
    "''' Define optimizer\n",
    "    TODO examine SDG and other optimizer protocols\n",
    "'''\n",
    "optimizer = torch.optim.Adam(model.parameters(), lr=lr)\n",
    "print(f'Optimizer with learning rate lr={lr} and \\nParameters')\n",
    "for name, param in model.named_parameters():\n",
    "    if param.requires_grad:\n",
    "        print(f' {name} {param.data.shape}')"
   ]
  },
  {
   "cell_type": "markdown",
   "metadata": {},
   "source": [
    "### Method to Train and Validate the NN model\n",
    "good article on [training and validation](https://stackoverflow.com/questions/2976452/whats-is-the-difference-between-train-validation-and-test-set-in-neural-netwo)"
   ]
  },
  {
   "cell_type": "code",
   "execution_count": 10,
   "metadata": {},
   "outputs": [
    {
     "name": "stdout",
     "output_type": "stream",
     "text": [
      "Validation loader shape torch.Size([10, 52]) and target loader shape torch.Size([10])\n"
     ]
    }
   ],
   "source": [
    "val_loader_input, val_loader_target = next(iter(val_loader))\n",
    "print(f\"Validation loader shape {val_loader_input.shape} and target loader shape {val_loader_target.shape}\")"
   ]
  },
  {
   "cell_type": "code",
   "execution_count": 11,
   "metadata": {},
   "outputs": [
    {
     "name": "stdout",
     "output_type": "stream",
     "text": [
      "Begin training for 300 epochs ...\n",
      "\n",
      "epoch:   1 training loss:   1.71\n",
      "epoch:   1 training accuracy:  33.95%\n",
      "epoch:   1 validation accuracy:  37.99%\n",
      "epoch:  26 training loss:   1.39\n",
      "epoch:  26 training accuracy:  59.56%\n",
      "epoch:  26 validation accuracy:  57.50%\n",
      "epoch:  51 training loss:   1.63\n",
      "epoch:  51 training accuracy:  61.06%\n",
      "epoch:  51 validation accuracy:  56.91%\n",
      "epoch:  76 training loss:   1.50\n",
      "epoch:  76 training accuracy:  61.57%\n",
      "epoch:  76 validation accuracy:  58.08%\n",
      "epoch: 101 training loss:   1.42\n",
      "epoch: 101 training accuracy:  63.57%\n",
      "epoch: 101 validation accuracy:  60.99%\n",
      "epoch: 126 training loss:   1.34\n",
      "epoch: 126 training accuracy:  61.53%\n",
      "epoch: 126 validation accuracy:  58.95%\n",
      "epoch: 151 training loss:   1.29\n",
      "epoch: 151 training accuracy:  62.33%\n",
      "epoch: 151 validation accuracy:  60.26%\n",
      "epoch: 176 training loss:   1.37\n",
      "epoch: 176 training accuracy:  63.02%\n",
      "epoch: 176 validation accuracy:  62.45%\n",
      "epoch: 201 training loss:   1.29\n",
      "epoch: 201 training accuracy:  63.24%\n",
      "epoch: 201 validation accuracy:  59.83%\n",
      "epoch: 226 training loss:   1.61\n",
      "epoch: 226 training accuracy:  62.59%\n",
      "epoch: 226 validation accuracy:  58.52%\n",
      "epoch: 251 training loss:   1.47\n",
      "epoch: 251 training accuracy:  62.84%\n",
      "epoch: 251 validation accuracy:  58.37%\n",
      "epoch: 276 training loss:   1.34\n",
      "epoch: 276 training accuracy:  63.13%\n",
      "epoch: 276 validation accuracy:  57.64%\n",
      "epoch: 300 loss:   1.40\n",
      "epoch: 300 training accuracy:  62.51%\n",
      "epoch: 300 validation accuracy:  58.52%\n"
     ]
    }
   ],
   "source": [
    "''' Define the number of epochs to train the NN '''\n",
    "epochs = 300\n",
    "''' Define lists for loss and accuracy measures for each epoch'''\n",
    "train_aggr_loss = []\n",
    "train_aggr_accu = []\n",
    "val_aggr_accu = []\n",
    " \n",
    "''' Train the NN over epochs '''\n",
    "print(f\"Begin training for {epochs} epochs ...\\n\")\n",
    "for i in range(epochs):\n",
    "    i += 1\n",
    "    _epoch_train_loss = []\n",
    "    _epoch_train_accu = []\n",
    "    _epoch_train_accu, _epoch_train_loss = Net.get_train_perform(train_loader)\n",
    "    train_aggr_loss.append(_epoch_train_loss[0])\n",
    "    train_aggr_accu.append(_epoch_train_accu[0])\n",
    "\n",
    "    _epoch_val_accu = []\n",
    "    _epoch_val_accu = Net.get_valid_perform(val_loader)\n",
    "    val_aggr_accu.append(_epoch_val_accu[0])\n",
    "\n",
    "    if i%25 == 1:\n",
    "        print(f'epoch: {i:3} training loss: {_epoch_train_loss[0]:6.2f}')\n",
    "        print(f'epoch: {i:3} training accuracy: {_epoch_train_accu[0]:6.2f}%')\n",
    "        print(f'epoch: {i:3} validation accuracy: {_epoch_val_accu[0]:6.2f}%')\n",
    "\n",
    "print(f'epoch: {i:3} loss: {_epoch_train_loss[0]:6.2f}')\n",
    "print(f'epoch: {i:3} training accuracy: {_epoch_train_accu[0]:6.2f}%')\n",
    "print(f'epoch: {i:3} validation accuracy: {_epoch_val_accu[0]:6.2f}%')\n"
   ]
  },
  {
   "cell_type": "markdown",
   "metadata": {},
   "source": [
    "## Plot training process losses and accuracies"
   ]
  },
  {
   "cell_type": "code",
   "execution_count": 12,
   "metadata": {},
   "outputs": [
    {
     "data": {
      "image/png": "[encoded data removed]",
      "text/plain": [
       "<Figure size 432x288 with 1 Axes>"
      ]
     },
     "metadata": {
      "needs_background": "light"
     },
     "output_type": "display_data"
    }
   ],
   "source": [
    "''' PLOT aggregated losses over the epoch '''\n",
    "plt.plot(range(epochs), train_aggr_loss)\n",
    "plt.ylabel('losses')\n",
    "plt.xlabel('epoch');\n",
    "plt.title(f'Aggregated losses over {epochs} epochs')\n",
    "plt.show()"
   ]
  },
  {
   "cell_type": "code",
   "execution_count": 13,
   "metadata": {},
   "outputs": [
    {
     "data": {
      "image/png": "[encoded data removed]",
      "text/plain": [
       "<Figure size 432x288 with 1 Axes>"
      ]
     },
     "metadata": {
      "needs_background": "light"
     },
     "output_type": "display_data"
    }
   ],
   "source": [
    "''' PLOT aggregated accuracies over the epochs  '''\n",
    "plt.title(f'Accuracy = Correct/Total over {epochs} epochs')\n",
    "plt.ylabel('accuracy%')\n",
    "plt.xlabel('epoch');\n",
    "plt.plot(range(epochs), train_aggr_accu, label='Training')\n",
    "plt.plot(range(epochs), val_aggr_accu, label='Validation')\n",
    "plt.legend(loc='lower right')\n",
    "plt.show()"
   ]
  },
  {
   "cell_type": "markdown",
   "metadata": {},
   "source": [
    "### OneHotEncoding [DEPRECATE?]"
   ]
  },
  {
   "cell_type": "code",
   "execution_count": null,
   "metadata": {},
   "outputs": [],
   "source": [
    "'''\n",
    "    DEPRECATE if the LabelEncoding is sufficient; else,\n",
    "    TODO: OneHotEncode before building the the tensors\n",
    "'''\n",
    "\n",
    "import logging\n",
    "from functools import lru_cache\n",
    "\n",
    "logging.debug('Preprocessing data with OneHotEncoder')\n",
    "\n",
    "'''\n",
    "    OneHotEncoder to create the arrays for training, validation, and testing\n",
    "'''\n",
    "train_1hotenc = np.empty_like(train_ts)\n",
    "for t_indx, t in enumerate(train_ts):\n",
    "    print(t_indx,t.numpy())\n",
    "    train_1hotenc[t_indx] = OneHotEncoder(categories='auto', drop=None, sparse=True, dtype='float64', \n",
    "                                  handle_unknown='error').fit_transform(t.numpy())\n",
    "    print(train_1hotenc[t_indx])\n",
    "train_1hotenc_ts = train_1hotenc\n",
    "print(f\"Shape of the OneHotencoded array: {train_1hotenc.shape}\")\n",
    "print(f\"Datatype of the OneHotencoded array: {train_1hotenc.dtype}\")"
   ]
  }
 ],
 "metadata": {
  "kernelspec": {
   "display_name": "conda_python3",
   "language": "python",
   "name": "conda_python3"
  },
  "language_info": {
   "codemirror_mode": {
    "name": "ipython",
    "version": 3
   },
   "file_extension": ".py",
   "mimetype": "text/x-python",
   "name": "python",
   "nbconvert_exporter": "python",
   "pygments_lexer": "ipython3",
   "version": "3.6.10"
  }
 },
 "nbformat": 4,
 "nbformat_minor": 4
}
