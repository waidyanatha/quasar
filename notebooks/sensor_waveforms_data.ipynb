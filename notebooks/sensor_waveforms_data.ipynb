{
 "cells": [
  {
   "cell_type": "markdown",
   "metadata": {},
   "source": [
    "# NZ Sensor Data\n",
    "\n",
    "### Objectives \n",
    "1. Retrieve all NZ sensor data for a sliding temporal window and categorize them by types and location.\n",
    "\n",
    "### DEFINE data services and software modules\n",
    "\n",
    "International Federation Data of Seismic Networks (FDSN) is a global standard and a [data service](http://www.fdsn.org/services/). Therefore, acquiring the data in FSDN also allows reusing available ObsPy libraries. Inherit the classes\n",
    "1. ObsPy\n",
    "   1. FSDN as Client data sources\n",
    "   1. core to read data and utilize datatime features\n",
    "   "
   ]
  },
  {
   "cell_type": "code",
   "execution_count": null,
   "metadata": {},
   "outputs": [],
   "source": [
    "import glob\n",
    "from obspy.clients.fdsn import Client\n",
    "from obspy.core import read, UTCDateTime\n",
    "from datetime import date\n",
    "\n",
    "# Set FDSN client URLs\n",
    "#arc_client  = 'GEONET'\n",
    "arc_client  = 'http://service.geonet.org.nz'\n",
    "nrt_client = 'http://service-nrt.geonet.org.nz'\n",
    "print(\"Available clients: \\n*archive client:\",arc_client,\"\\n*near real-time client:\",nrt_client)\n",
    "\n",
    "# Establish start and end time for retrieving waveform data\n",
    "t_start = UTCDateTime.now()-518400 #6 days ago = 60s x 60m x 24h x 6d\n",
    "t_end = t_start+300\n",
    "print('Waveform startime: ', t_start, '\\n & ending time: ', t_end)\n",
    "\n",
    "days7 = UTCDateTime.now()-604800 #7 days ago\n",
    "days8 = UTCDateTime.now()-691200 #8 days ago\n",
    "\n",
    "# Select the appropriate client based on start and end times\n",
    "if t_end < days7:\n",
    "    client = Client(arc_client)\n",
    "    print(\"Appropriate client is archive client\", arc_client)\n",
    "elif t_start > days8:\n",
    "    client = Client(nrt_client)\n",
    "    print(\"Appropriate client is near real-time client\", nrt_client)\n",
    "else:\n",
    "    print(\"Time range requires both clients\")"
   ]
  },
  {
   "cell_type": "markdown",
   "metadata": {},
   "source": [
    "### Try connecting to the client data services\n",
    "\n",
    "We first try connecting to the data services to retrieve data from a single known sensor. It will allow to confirm that the services are working.\n",
    "\n",
    "The [GeoNet FDSN webservices](https://www.geonet.org.nz/data/tools/FDSN), in the interest of getting the most complete waveform data offers two service:\n",
    "1. __archive__ service, service.geonet.org.nz - (or the \"GEONET\" shortcut if using obspy) - __complete__ set of waveform data that is 7 days behind the present time\n",
    "1. __near real-time__ service, service-nrt.geonet.org.nz - possible __incomplete__ set but of the most recent waveform data for the last 8 days (for anything older use the archive service above)."
   ]
  },
  {
   "cell_type": "code",
   "execution_count": null,
   "metadata": {},
   "outputs": [],
   "source": [
    "#first try to get data from archive server\n",
    "try:\n",
    "    print('trying client:',client,'\\n')\n",
    "    st = client.get_waveforms('NZ', 'KRVZ', '10', 'EHZ', t_start, t_end)\n",
    "    print('successful')\n",
    "    print(st)\n",
    "#if this raises an exception, try the near real-time server\n",
    "except:\n",
    "    print('unable to retrieve data from client')"
   ]
  },
  {
   "cell_type": "markdown",
   "metadata": {},
   "source": [
    "### Get all Station details\n",
    "\n",
    "Location codes reserved for the seismic sensors are:\n",
    "* 1? - weak motion sensors\n",
    "* 2? - strong motion sensors\n",
    "\n",
    "Channel codes \n",
    "- First letter of the code represents a combination of sampling rate and sensor bandwidth\n",
    "* U (Ultra Long Period sampled at 0.01Hz, or SOH sampled at 0.01Hz)\n",
    "* V (Very Long Period sampled at 0.1Hz, or SOH sampled at 0.1Hz)\n",
    "* L (Broad band sampled at 1Hz, or SOH sampled at 1Hz)\n",
    "* B (Broad band sampled at between 10 and 80 Hz, usually 10 or 50 Hz)\n",
    "* S (Short-period sampled at between 10 and 80 Hz, usually 50 Hz)\n",
    "* H (High Broad band sampled at or above 80Hz, generally 100 or 200 Hz)\n",
    "* E (Extremely Short-period sampled at or above 80Hz, generally 100 Hz)\n",
    "\n",
    "- The second letter represents the sensor type, e.g.(listed are the ones relevant to seismometers\n",
    "* H (Weak motion sensor, e.g. measuring velocity)\n",
    "* N (Strong motion sensor, e.g. measuring acceleration)\n",
    "* L (Low gain sensor, usually velocity)\n",
    "* M (Mass position, used for monitoring broadband sensors)"
   ]
  },
  {
   "cell_type": "markdown",
   "metadata": {},
   "source": [
    "### Get waveform for all seismographs\n",
    "Location codes reserved for the seismic sensors are:\n",
    "* 1? - weak motion sensors\n",
    "* 2? - strong motion sensors\n",
    "\n",
    "Since waveform retrieval does not allow for using multiple wildcards for location, we have to iterate for each location and then merge them into a single Stream. "
   ]
  },
  {
   "cell_type": "code",
   "execution_count": null,
   "metadata": {},
   "outputs": [],
   "source": [
    "t_start = UTCDateTime.now()-518400 #6 days ago\n",
    "t_end = t_start+300\n",
    "print('Waveform startime: ', t_start, '\\n & ending time: ', t_end)\n",
    "print(client)\n",
    "\n",
    "# st_waveforms = client.get_waveforms(network=\"NZ\", location=\"1?,2?\", station=\"*\", \n",
    "#                       channel=\"U*,V*,L*,B*,S*,H*,E*\", starttime=t_start, endtime = t_end)\n",
    "\n",
    "#get weak motion waveforms with location id strating with 1\n",
    "try:\n",
    "    wmst_waveforms = client.get_waveforms(network='NZ', station='*', location='1?', channel='*', \n",
    "                                          starttime=t_start, endtime=t_end)\n",
    "    print(wmst_waveforms)\n",
    "except Exception as err:\n",
    "    print(\"Exception message:\", err)\n",
    "\n",
    "try:\n",
    "    smst_waveforms = client.get_waveforms(network='NZ', station='*', location='2?', channel='*',\n",
    "                                          starttime=t_start, endtime=t_end)\n",
    "    print(smst_waveforms)\n",
    "except Exception as err:\n",
    "    print(\"Exception message:\", err)        \n",
    "    \n",
    "#    st_waveforms.plot()"
   ]
  },
  {
   "cell_type": "code",
   "execution_count": null,
   "metadata": {},
   "outputs": [],
   "source": [
    "print(st_waveforms.__str__(extended=True))"
   ]
  },
  {
   "cell_type": "markdown",
   "metadata": {},
   "source": [
    "### Resources\n",
    "1. GEONET [Stream Naming Conventions](https://www.geonet.org.nz/data/supplementary/channels) are based on historical usage together with recommendations from the [SEED manual](https://www.fdsn.org/seed_manual/SEEDManual_V2.4.pdf)\n"
   ]
  },
  {
   "cell_type": "code",
   "execution_count": null,
   "metadata": {},
   "outputs": [],
   "source": []
  }
 ],
 "metadata": {
  "kernelspec": {
   "display_name": "Python 3",
   "language": "python",
   "name": "python3"
  },
  "language_info": {
   "codemirror_mode": {
    "name": "ipython",
    "version": 3
   },
   "file_extension": ".py",
   "mimetype": "text/x-python",
   "name": "python",
   "nbconvert_exporter": "python",
   "pygments_lexer": "ipython3",
   "version": "3.7.6"
  }
 },
 "nbformat": 4,
 "nbformat_minor": 4
}
