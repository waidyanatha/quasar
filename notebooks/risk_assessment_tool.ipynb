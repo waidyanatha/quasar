{
 "cells": [
  {
   "cell_type": "markdown",
   "metadata": {},
   "source": [
    "# Risk assesment for Quake Safe Kiwis\n",
    "\n",
    "## Problem\n",
    "In a citizen-led approach to building a community-based earthquake early warning system one must decide the costs benifits of investing in an EEW application. For such the user must be able to:\n",
    "1. Assess and perceive their risk to earthquakes; given the vulnerability, exposure, and cost\n",
    "1. Determine the ideal micro-array for their EEW application\n",
    "1. Calculate the total cost of ownership of the EEW application\n",
    "\n",
    "## Risk Assessment Tool\n",
    "As a firt step this project aims to develop an analytics tool for individuals to assess the potential risks to earthquakes and then determining whether or not they should introduce a micro-array. For such, the tools will offer map functionality of:\n",
    "1. Historic strong motion earthquakes\n",
    "1. Geophhysical characteristics and terrain feature (i.e. soil structure)\n",
    "1. Voids in station placements for potential mini-arrays\n",
    "\n",
    "\n"
   ]
  },
  {
   "cell_type": "markdown",
   "metadata": {},
   "source": [
    "### DEFINE data services and software modules\n",
    "\n",
    "International Federation Data of Seismic Networks (FDSN) is a global standard and a [data service](http://www.fdsn.org/services/). Therefore, acquiring the data in FSDN also allows reusing available ObsPy libraries. Inherit the classes\n",
    "1. ObsPy\n",
    "   1. FSDN as Client data sources\n",
    "   1. core to read data and utilize datatime features\n",
    "   "
   ]
  },
  {
   "cell_type": "code",
   "execution_count": null,
   "metadata": {},
   "outputs": [],
   "source": [
    "from obspy.clients.fdsn import Client\n",
    "from obspy.core import read, UTCDateTime\n",
    "\n",
    "arc_client  = 'http://service.geonet.org.nz'\n",
    "# or arc_client = \"GEONET\"\n",
    "nrt_client = 'http://service-nrt.geonet.org.nz'"
   ]
  },
  {
   "cell_type": "markdown",
   "metadata": {},
   "source": [
    "### CONNECT to the NZ data services"
   ]
  },
  {
   "cell_type": "code",
   "execution_count": null,
   "metadata": {},
   "outputs": [],
   "source": [
    "t = UTCDateTime('2017-10-04')\n",
    "\n",
    "#first try to get data from archive server\n",
    "try:\n",
    "    client = Client(arc_client)\n",
    "    st = client.get_waveforms('NZ', 'KRVZ', '10', 'EHZ', t, t + 300)\n",
    "    print('arc client successful')\n",
    "#if this raises an exception, try the near real-time server\n",
    "except:\n",
    "    client = Client(nrt_client)\n",
    "    st = client.get_waveforms('NZ', 'KRVZ', '10', 'EHZ', t, t + 300)\n",
    "    print('nrt client successful')\n",
    "print(st)"
   ]
  },
  {
   "cell_type": "code",
   "execution_count": null,
   "metadata": {},
   "outputs": [],
   "source": [
    "#!/usr/bin/env python3.7\n",
    "import glob\n",
    "from obspy.core import read, UTCDateTime\n",
    "\n",
    "time = UTCDateTime(2020, 7, 22, 9, 15, 0, 8)\n",
    "print(UTCDateTime(time))\n",
    "\n",
    "st = read('http://examples.obspy.org/RJOB_061005_072159.ehz.new')\n",
    "print(st)\n",
    "tr = st[0]\n",
    "print(tr.data)\n",
    "st.plot()\n"
   ]
  },
  {
   "cell_type": "markdown",
   "metadata": {},
   "source": [
    "### References\n",
    "* [OpenQuake tool](https://github.com/gem/oq-engine) is a model building toolkit, a suite of tools for building components and analysing earthquake occurrence models for PSHA analysis.\n",
    "* [An Introduction to Probabilistic Seismic Hazard Analaysis](https://web.stanford.edu/~bakerjw/Publications/Baker_(2008)_Intro_to_PSHA_v1_3.pdf)discusses the calculations involved in PSHA, and the motivation for  using  this  approach such as _probabilistic vs deterministic_, _deagregation_, _ground motion intensity_, _return period_, and so on.\n",
    "* [National seismic model for NZ: 2010 Update](https://www.researchgate.net/publication/233937045_National_Seismic_Hazard_Model_for_New_Zealand_2010_Update) (the new NSHM) supersedes the earlier NSHM published in 2002 and incorporates a fault source model that has been updated with over 200 new onshore and offshore fault sources and utilizes new New Zealand-based and international scaling relationships for the parameterization of the faults"
   ]
  },
  {
   "cell_type": "code",
   "execution_count": null,
   "metadata": {},
   "outputs": [],
   "source": []
  }
 ],
 "metadata": {
  "kernelspec": {
   "display_name": "Python 3",
   "language": "python",
   "name": "python3"
  },
  "language_info": {
   "codemirror_mode": {
    "name": "ipython",
    "version": 3
   },
   "file_extension": ".py",
   "mimetype": "text/x-python",
   "name": "python",
   "nbconvert_exporter": "python",
   "pygments_lexer": "ipython3",
   "version": "3.7.6"
  }
 },
 "nbformat": 4,
 "nbformat_minor": 4
}
